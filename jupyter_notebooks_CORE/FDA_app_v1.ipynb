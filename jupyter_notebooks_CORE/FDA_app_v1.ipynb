{
 "cells": [
  {
   "cell_type": "code",
   "execution_count": 3,
   "metadata": {},
   "outputs": [],
   "source": [
    "import pandas as pd\n",
    "import numpy as np\n",
    "import pickle\n",
    "\n",
    "# Load scikit's random forest classifier library\n",
    "from sklearn.ensemble import RandomForestClassifier\n",
    "# load the model of interest\n",
    "with open(\"./progress/modeling/RF_1_1_serious.pkl\", \"rb\") as fp:   # Unpickling\n",
    "    RF_1_1 = pickle.load(fp)\n",
    "# load the csv\n",
    "filename = 'progress/modeling/df_ML_model_1_1.csv'\n",
    "df = pd.read_csv(filename, index_col = 0)\n",
    "entries = df.columns\n",
    "# load the entries\n",
    "with open(\"./progress/modeling/entries_len_1_1.txt\", \"rb\") as fp:   # Unpickling\n",
    "    entries_len = pickle.load(fp)\n"
   ]
  },
  {
   "cell_type": "code",
   "execution_count": 22,
   "metadata": {},
   "outputs": [
    {
     "data": {
      "text/plain": [
       "0"
      ]
     },
     "execution_count": 22,
     "metadata": {},
     "output_type": "execute_result"
    }
   ],
   "source": [
    "strings = [\"\", \"\", \"\"]\n",
    "strings = [x for x in strings if x]\n",
    "len(strings)"
   ]
  },
  {
   "cell_type": "code",
   "execution_count": 4,
   "metadata": {},
   "outputs": [],
   "source": [
    "from difflib import SequenceMatcher\n",
    "\n",
    "def query_match(query_in, query_cat):\n",
    "    \"\"\"\n",
    "    This function takes in an entry for a given category and returns the most similar in the feature list by text.\n",
    "    \"\"\"\n",
    "    \n",
    "    # clean up input\n",
    "    if query_cat == 'generic_name':\n",
    "        query_in = query_in.upper()\n",
    "        entries_list = generic_name_list\n",
    "    \n",
    "    # clean up input\n",
    "    if query_cat == 'drug_char':\n",
    "        query_in = query_in.title()\n",
    "        entries_list = drug_char_list\n",
    "    \n",
    "    # clean up input\n",
    "    if query_cat == 'drug_indication':\n",
    "        query_in = query_in.upper()\n",
    "        entries_list = drug_indication_list\n",
    "    \n",
    "    # clean up input\n",
    "    if query_cat == 'admin_route':\n",
    "        query_in = query_in.title()\n",
    "        entries_list = admin_route_list\n",
    "    \n",
    "    # clean up input\n",
    "    if query_cat == 'reaction_medDRA':\n",
    "        query_in = query_in.upper()\n",
    "        entries_list = reaction_list\n",
    "    \n",
    "    # get similarities\n",
    "    num = []\n",
    "    for entry in entries_list:\n",
    "        num.append(SequenceMatcher(None, query_in, entry).ratio())\n",
    "    # get best matched entry\n",
    "    entry_index = num.index(max(num))\n",
    "    entry_query = entries_list[entry_index]\n",
    "    # return matched entry    \n",
    "    return entry_query"
   ]
  },
  {
   "cell_type": "markdown",
   "metadata": {},
   "source": [
    "Convert to an input vector"
   ]
  },
  {
   "cell_type": "code",
   "execution_count": 5,
   "metadata": {},
   "outputs": [
    {
     "data": {
      "text/plain": [
       "[174, 3, 283, 51, 32]"
      ]
     },
     "execution_count": 5,
     "metadata": {},
     "output_type": "execute_result"
    }
   ],
   "source": [
    "# generic_name, drug_char, drug_indication, admin_route, reaction_medDRA\n",
    "entries_len"
   ]
  },
  {
   "cell_type": "code",
   "execution_count": 7,
   "metadata": {},
   "outputs": [],
   "source": [
    "with open('medDRA/dict_LLT_PT.pkl', \"rb\") as fp:\n",
    "    dict_LLT_PT = pickle.load(fp)\n",
    "with open('medDRA/dict_PT_HLT.pkl', \"rb\") as fp:\n",
    "    dict_PT_HLT = pickle.load(fp)\n",
    "with open('medDRA/dict_HLT_HLGT.pkl', \"rb\") as fp:\n",
    "    dict_HLT_HLGT = pickle.load(fp)\n",
    "with open('medDRA/dict_HLGT_SOC.pkl', \"rb\") as fp:\n",
    "    dict_HLGT_SOC = pickle.load(fp)"
   ]
  },
  {
   "cell_type": "code",
   "execution_count": 11,
   "metadata": {},
   "outputs": [],
   "source": [
    "generic_name_list = entries[sum(entries_len[0:0]): sum(entries_len[0:1])]\n",
    "# drug_char\n",
    "drug_char_list = entries[sum(entries_len[0:1]): sum(entries_len[0:2])]\n",
    "# drug_indication\n",
    "drug_indication_list = entries[sum(entries_len[0:2]): sum(entries_len[0:3])]\n",
    "# admin_route\n",
    "admin_route_list = entries[sum(entries_len[0:3]): sum(entries_len[0:4])]\n",
    "# reaction_medDRA\n",
    "reaction_list = entries[sum(entries_len[0:4]): sum(entries_len[0:5])]"
   ]
  },
  {
   "cell_type": "code",
   "execution_count": 17,
   "metadata": {},
   "outputs": [
    {
     "data": {
      "text/plain": [
       "{'BLOOD AND LYMPHATIC SYSTEM DISORDERS',\n",
       " 'CARDIAC DISORDERS',\n",
       " 'CONGENITAL, FAMILIAL AND GENETIC DISORDERS',\n",
       " 'EAR AND LABYRINTH DISORDERS',\n",
       " 'ENDOCRINE DISORDERS',\n",
       " 'EYE DISORDERS',\n",
       " 'GASTROINTESTINAL DISORDERS',\n",
       " 'GENERAL DISORDERS AND ADMINISTRATION SITE CONDITIONS',\n",
       " 'HEPATOBILIARY DISORDERS',\n",
       " 'IMMUNE SYSTEM DISORDERS',\n",
       " 'INFECTIONS AND INFESTATIONS',\n",
       " 'INJURY, POISONING AND PROCEDURAL COMPLICATIONS',\n",
       " 'INVESTIGATIONS',\n",
       " 'METABOLISM AND NUTRITION DISORDERS',\n",
       " 'MUSCULOSKELETAL AND CONNECTIVE TISSUE DISORDERS',\n",
       " 'NEOPLASMS BENIGN, MALIGNANT AND UNSPECIFIED (INCL CYSTS AND POLYPS)',\n",
       " 'NERVOUS SYSTEM DISORDERS',\n",
       " 'PREGNANCY, PUERPERIUM AND PERINATAL CONDITIONS',\n",
       " 'PRODUCT ISSUES',\n",
       " 'PSYCHIATRIC DISORDERS',\n",
       " 'RENAL AND URINARY DISORDERS',\n",
       " 'REPRODUCTIVE SYSTEM AND BREAST DISORDERS',\n",
       " 'RESPIRATORY, THORACIC AND MEDIASTINAL DISORDERS',\n",
       " 'SKIN AND SUBCUTANEOUS TISSUE DISORDERS',\n",
       " 'SOCIAL CIRCUMSTANCES',\n",
       " 'SURGICAL AND MEDICAL PROCEDURES',\n",
       " 'VASCULAR DISORDERS'}"
      ]
     },
     "execution_count": 17,
     "metadata": {},
     "output_type": "execute_result"
    }
   ],
   "source": [
    "set(list(dict_HLGT_SOC.values()))"
   ]
  },
  {
   "cell_type": "code",
   "execution_count": 13,
   "metadata": {},
   "outputs": [
    {
     "data": {
      "text/plain": [
       "[' FAMILIAL AND GENETIC DISORDERS',\n",
       " ' MALIGNANT AND UNSPECIFIED (INCL CYSTS AND POLYPS)',\n",
       " ' POISONING AND PROCEDURAL COMPLICATIONS',\n",
       " ' PUERPERIUM AND PERINATAL CONDITIONS',\n",
       " ' THORACIC AND MEDIASTINAL DISORDERS',\n",
       " 'BLOOD AND LYMPHATIC SYSTEM DISORDERS',\n",
       " 'CARDIAC DISORDERS',\n",
       " 'CONGENITAL',\n",
       " 'EAR AND LABYRINTH DISORDERS',\n",
       " 'ENDOCRINE DISORDERS',\n",
       " 'EYE DISORDERS',\n",
       " 'GASTROINTESTINAL DISORDERS',\n",
       " 'GENERAL DISORDERS AND ADMINISTRATION SITE CONDITIONS',\n",
       " 'HEPATOBILIARY DISORDERS',\n",
       " 'IMMUNE SYSTEM DISORDERS',\n",
       " 'INFECTIONS AND INFESTATIONS',\n",
       " 'INJURY',\n",
       " 'INVESTIGATIONS',\n",
       " 'METABOLISM AND NUTRITION DISORDERS',\n",
       " 'MUSCULOSKELETAL AND CONNECTIVE TISSUE DISORDERS',\n",
       " 'NEOPLASMS BENIGN',\n",
       " 'NERVOUS SYSTEM DISORDERS',\n",
       " 'PREGNANCY',\n",
       " 'PRODUCT ISSUES',\n",
       " 'PSYCHIATRIC DISORDERS',\n",
       " 'RENAL AND URINARY DISORDERS',\n",
       " 'REPRODUCTIVE SYSTEM AND BREAST DISORDERS',\n",
       " 'RESPIRATORY',\n",
       " 'SKIN AND SUBCUTANEOUS TISSUE DISORDERS',\n",
       " 'SOCIAL CIRCUMSTANCES',\n",
       " 'SURGICAL AND MEDICAL PROCEDURES',\n",
       " 'VASCULAR DISORDERS']"
      ]
     },
     "execution_count": 13,
     "metadata": {},
     "output_type": "execute_result"
    }
   ],
   "source": [
    "list(reaction_list)"
   ]
  },
  {
   "cell_type": "code",
   "execution_count": 4,
   "metadata": {},
   "outputs": [],
   "source": [
    "# generic_name\n",
    "generic_name_list = entries[sum(entries_len[0:0]): sum(entries_len[0:1])]"
   ]
  },
  {
   "cell_type": "code",
   "execution_count": 5,
   "metadata": {},
   "outputs": [],
   "source": [
    "# drug_char\n",
    "drug_char_list = entries[sum(entries_len[0:1]): sum(entries_len[0:2])]"
   ]
  },
  {
   "cell_type": "code",
   "execution_count": 6,
   "metadata": {},
   "outputs": [],
   "source": [
    "# drug_indication\n",
    "drug_indication_list = entries[sum(entries_len[0:2]): sum(entries_len[0:3])]"
   ]
  },
  {
   "cell_type": "code",
   "execution_count": 7,
   "metadata": {},
   "outputs": [],
   "source": [
    "# admin_route\n",
    "admin_route_list = entries[sum(entries_len[0:3]): sum(entries_len[0:4])]"
   ]
  },
  {
   "cell_type": "code",
   "execution_count": 8,
   "metadata": {},
   "outputs": [],
   "source": [
    "# reaction_medDRA\n",
    "reaction_list = entries[sum(entries_len[0:4]): sum(entries_len[0:5])]"
   ]
  },
  {
   "cell_type": "code",
   "execution_count": 9,
   "metadata": {},
   "outputs": [
    {
     "data": {
      "text/plain": [
       "'ALUMINUM HYDROXIDE AND MA'"
      ]
     },
     "execution_count": 9,
     "metadata": {},
     "output_type": "execute_result"
    }
   ],
   "source": [
    "query_match('alkminum hyrdox', 'generic_name')"
   ]
  },
  {
   "cell_type": "markdown",
   "metadata": {},
   "source": [
    "Convert to feature space"
   ]
  },
  {
   "cell_type": "code",
   "execution_count": 10,
   "metadata": {},
   "outputs": [
    {
     "name": "stdout",
     "output_type": "stream",
     "text": [
      "[0. 0. 0. 0. 0. 0. 0. 0. 0. 0. 0. 0. 0. 0. 0. 0. 0. 0. 0. 0. 0. 0. 0. 0.\n",
      " 0. 0. 0. 0. 0. 0. 0. 0. 0. 0. 0. 0. 0. 0. 0. 0. 0. 0. 0. 0. 0. 0. 0. 0.\n",
      " 0. 0. 0. 0. 0. 0. 0. 0. 0. 0. 0. 0. 0. 0. 0. 0. 0. 0. 0. 0. 0. 0. 0. 0.\n",
      " 0. 0. 0. 0. 0. 0. 0. 0. 0. 0. 0. 0. 0. 0. 0. 0. 0. 0. 0. 0. 0. 0. 0. 0.\n",
      " 0. 0. 0. 0. 0. 0. 0. 0. 0. 0. 0. 0. 0. 0. 0. 0. 0. 0. 0. 0. 0. 0. 0. 0.\n",
      " 0. 0. 0. 0. 0. 0. 0. 0. 0. 0. 0. 0. 0. 0. 0. 0. 0. 0. 0. 0. 0. 0. 0. 0.\n",
      " 0. 0. 0. 0. 0. 0. 0. 0. 0. 0. 0. 0. 0. 0. 0. 0. 0. 0. 0. 0. 0. 0. 0. 0.\n",
      " 0. 0. 0. 0. 0. 0. 0. 0. 0. 0. 0. 0. 0. 0. 0. 0. 0. 0. 0. 0. 0. 1. 0. 1.\n",
      " 0. 0. 0. 0. 0. 0. 0. 0. 0. 0. 0. 0. 0. 0. 0. 0. 0. 0. 0. 0. 0. 0. 0. 0.\n",
      " 0. 0. 0. 0. 0. 0. 0. 0. 0. 0. 0. 0. 0. 0. 0. 0. 0. 0. 0. 0. 0. 0. 0. 0.\n",
      " 0. 0. 0. 0. 0. 0. 0. 0. 0. 0. 0. 0. 0. 0. 0. 0. 0. 0. 0. 0. 0. 1. 0. 0.\n",
      " 0. 0. 0. 0. 0. 0. 0. 0. 0. 0. 0. 0. 0. 0. 0. 0. 0. 0. 0. 0. 0. 0. 0. 0.\n",
      " 0. 0. 0. 0. 0. 0. 0. 0. 0. 0. 0. 0. 0. 0. 0. 0. 0. 0. 0. 0. 0. 0. 0. 0.\n",
      " 0. 0. 0. 0. 0. 0. 0. 0. 0. 0. 0. 0. 0. 0. 0. 0. 0. 0. 0. 0. 0. 0. 0. 0.\n",
      " 0. 0. 0. 0. 0. 0. 1. 0. 0. 0. 0. 0. 0. 0. 0. 0. 0. 0. 0. 0. 0. 0. 0. 0.\n",
      " 0. 0. 0. 0. 0. 0. 0. 0. 0. 0. 0. 0. 1. 0. 0. 0. 0. 0. 0. 0. 0. 0. 0. 0.\n",
      " 0. 0. 0. 0. 0. 0. 0. 0. 0. 0. 0. 0. 0. 0. 0. 0. 0. 0. 0. 0. 0. 0. 0. 0.\n",
      " 0. 0. 0. 0. 0. 0. 0. 0. 0. 0. 0. 0. 0. 0. 0. 0. 0. 0. 0. 0. 0. 0. 0. 0.\n",
      " 0. 0. 1. 0. 0. 0. 0. 0. 0. 0. 0. 0. 0. 0. 0. 0. 0. 0. 0. 0. 0. 0. 0. 0.\n",
      " 0. 0. 0. 0. 0. 0. 0. 0. 0. 0. 0. 0. 0. 0. 0. 0. 0. 0. 0. 0. 0. 0. 0. 0.\n",
      " 0. 0. 0. 0. 0. 0. 0. 0. 0. 0. 0. 0. 0. 0. 0. 0. 0. 0. 0. 0. 0. 0. 0. 0.\n",
      " 0. 0. 0. 0. 0. 0. 0. 0. 0. 0. 0. 0. 0. 0. 0. 0. 0. 0. 0. 0. 0. 0. 0. 0.\n",
      " 0. 0. 0. 0. 0. 0. 0. 0. 0. 0. 0. 0. 0. 0. 0.]\n",
      "6.0\n"
     ]
    }
   ],
   "source": [
    "test_row = list(entries[np.random.randint(0,len(entries[:-7]),6)])\n",
    "test_row\n",
    "\n",
    "test_inputs = []\n",
    "for item in test_row:\n",
    "    test_inputs.append(list(entries).index(item))\n",
    "    \n",
    "model_input = np.zeros(len(entries[:-7]))\n",
    "\n",
    "model_input[test_inputs] = 1\n",
    "print(model_input)\n",
    "\n",
    "print(sum(model_input))"
   ]
  },
  {
   "cell_type": "code",
   "execution_count": null,
   "metadata": {},
   "outputs": [],
   "source": []
  },
  {
   "cell_type": "code",
   "execution_count": 12,
   "metadata": {},
   "outputs": [
    {
     "data": {
      "text/plain": [
       "543"
      ]
     },
     "execution_count": 12,
     "metadata": {},
     "output_type": "execute_result"
    }
   ],
   "source": [
    "len(model_input)"
   ]
  },
  {
   "cell_type": "code",
   "execution_count": 11,
   "metadata": {},
   "outputs": [
    {
     "data": {
      "text/plain": [
       "0.99"
      ]
     },
     "execution_count": 11,
     "metadata": {},
     "output_type": "execute_result"
    }
   ],
   "source": [
    "RF_1_1.predict_proba(model_input.reshape(1,-1))[0][0]"
   ]
  },
  {
   "cell_type": "markdown",
   "metadata": {},
   "source": [
    "Feed it to the model to predict the output probability for (a) serious, (b) death, (c) disabling, (d) hospitalization, (e) life threatening"
   ]
  },
  {
   "cell_type": "code",
   "execution_count": null,
   "metadata": {},
   "outputs": [],
   "source": []
  },
  {
   "cell_type": "markdown",
   "metadata": {},
   "source": [
    "Compare that input vector to clusters of serious outcome types"
   ]
  },
  {
   "cell_type": "code",
   "execution_count": null,
   "metadata": {},
   "outputs": [],
   "source": []
  },
  {
   "cell_type": "markdown",
   "metadata": {},
   "source": [
    "- Which cluster is most similar? Why (what components are most similar)?\n",
    "- Which components are most different? (Keep it this way!)"
   ]
  },
  {
   "cell_type": "code",
   "execution_count": null,
   "metadata": {},
   "outputs": [],
   "source": []
  }
 ],
 "metadata": {
  "kernelspec": {
   "display_name": "Python 3",
   "language": "python",
   "name": "python3"
  },
  "language_info": {
   "codemirror_mode": {
    "name": "ipython",
    "version": 3
   },
   "file_extension": ".py",
   "mimetype": "text/x-python",
   "name": "python",
   "nbconvert_exporter": "python",
   "pygments_lexer": "ipython3",
   "version": "3.7.0"
  }
 },
 "nbformat": 4,
 "nbformat_minor": 2
}
